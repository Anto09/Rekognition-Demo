{
 "cells": [
  {
   "cell_type": "code",
   "execution_count": null,
   "id": "3eb83c2d",
   "metadata": {},
   "outputs": [],
   "source": [
    "#Copyright 2018 Amazon.com, Inc. or its affiliates. All Rights Reserved.\n",
    "#PDX-License-Identifier: MIT-0 (For details, see https://github.com/awsdocs/amazon-rekognition-developer-guide/blob/master/LICENSE-SAMPLECODE.)\n",
    "\n",
    "import boto3\n",
    "import json\n",
    "import time\n",
    "import cv2\n",
    "import sys\n",
    "import io\n",
    "import os\n",
    "import numpy as np\n",
    "from PIL import (\n",
    "    Image, \n",
    "    ImageDraw, \n",
    "    ImageFont\n",
    ")"
   ]
  },
  {
   "cell_type": "code",
   "execution_count": null,
   "id": "8d723e1b",
   "metadata": {},
   "outputs": [],
   "source": [
    "def test():\n",
    "    print(\"import success\")"
   ]
  },
  {
   "cell_type": "code",
   "execution_count": null,
   "id": "017d4aa9",
   "metadata": {},
   "outputs": [],
   "source": [
    "def get_object(bucket, file, download):\n",
    "    client = boto3.client('s3')\n",
    "    with open(download, 'wb') as f:\n",
    "        client.download_fileobj(bucket, file, f)"
   ]
  },
  {
   "cell_type": "code",
   "execution_count": null,
   "id": "22bb6740",
   "metadata": {},
   "outputs": [],
   "source": [
    "def upload_to_s3(file, bucket, filename):\n",
    "    client = boto3.client('s3')\n",
    "    response = client.upload_file(\n",
    "        file, \n",
    "        bucket, \n",
    "        filename\n",
    "    )\n",
    "    return response"
   ]
  },
  {
   "cell_type": "code",
   "execution_count": null,
   "id": "e1203889",
   "metadata": {},
   "outputs": [],
   "source": [
    "def show_bounding_boxes(\n",
    "    photo_bytes, \n",
    "    boxes, \n",
    "    colors, \n",
    "    labels=None, \n",
    "    bg_text=False,\n",
    "    fnt=None,\n",
    "    text_fill=(255,255,255,128)\n",
    "):\n",
    "    \n",
    "    image = Image.open(io.BytesIO(photo_bytes))\n",
    "    draw = ImageDraw.Draw(image)\n",
    "    \n",
    "    # auto adjusting font\n",
    "    if fnt is None:\n",
    "        fnt_size = int(12 * image.width/800)\n",
    "        fnt=ImageFont.truetype(\"/usr/share/fonts/truetype/dejavu/DejaVuSansMono.ttf\", fnt_size)\n",
    "    \n",
    "    if labels is None:\n",
    "        labels = [None]*len(boxes)\n",
    "    for box, color, label in zip(boxes, colors, labels):\n",
    "        left = image.width * box['Left']\n",
    "        top = image.height * box['Top']\n",
    "        right = (image.width * box['Width']) + left\n",
    "        bottom = (image.height * box['Height']) + top\n",
    "        draw.rectangle([left, top, right, bottom], outline=color, width=3)\n",
    "\n",
    "        if labels[0] is not None:\n",
    "            pos_y = top if label[1]==\"Top\" else bottom\n",
    "            pos_x = left if label[2]==\"Left\" else right\n",
    "            \n",
    "            if bg_text:\n",
    "                w, h = fnt.getsize(label[0])\n",
    "                draw.rectangle((pos_x, pos_y, pos_x + w, pos_y + h), fill='black')\n",
    "            draw.text((pos_x, pos_y), label[0], font=fnt, fill=text_fill)\n",
    "        \n",
    "    image.show()"
   ]
  },
  {
   "cell_type": "code",
   "execution_count": null,
   "id": "a2e808f7",
   "metadata": {},
   "outputs": [],
   "source": [
    "def show_polygons(image_bytes, polygons, color):\n",
    "    image = Image.open(io.BytesIO(image_bytes))\n",
    "    draw = ImageDraw.Draw(image)\n",
    "    for polygon in polygons:\n",
    "        draw.polygon([\n",
    "            (image.width * point['X'], image.height * point['Y']) for point in polygon],\n",
    "            outline=color)\n",
    "    image.show()"
   ]
  },
  {
   "cell_type": "code",
   "execution_count": null,
   "id": "3e003624",
   "metadata": {},
   "outputs": [],
   "source": [
    "def crop_bounding_boxes(\n",
    "    photo_name,\n",
    "    photo_bytes, \n",
    "    boxes,\n",
    "    dest_folder=\"../images/cropped/\"\n",
    "):\n",
    "    image = Image.open(io.BytesIO(photo_bytes))\n",
    "    \n",
    "    if not os.path.exists(dest_folder):\n",
    "        os.makedirs(dest_folder)\n",
    "    \n",
    "    idx = 1\n",
    "    new_photo_names = []\n",
    "    for box in boxes:\n",
    "        left = image.width * box['Left']\n",
    "        top = image.height * box['Top']\n",
    "        right = (image.width * box['Width']) + left\n",
    "        bottom = (image.height * box['Height']) + top\n",
    "        \n",
    "        new_photo_name = '.'.join(photo_name.split('.')[:-1]) + '_{}.'.format(idx) + photo_name.split('.')[-1]\n",
    "        image_cropped = image.crop((left, top, right, bottom))\n",
    "        image_cropped.save(dest_folder + new_photo_name)\n",
    "        new_photo_names.append(new_photo_name)\n",
    "        idx += 1\n",
    "    \n",
    "    return new_photo_names"
   ]
  },
  {
   "cell_type": "code",
   "execution_count": null,
   "id": "a5d051ca",
   "metadata": {},
   "outputs": [],
   "source": [
    "def concat_horizontal(image1, image2):\n",
    "    dst = Image.new(\n",
    "        'RGB', \n",
    "        (\n",
    "            image1.width + image2.width, \n",
    "            image1.height\n",
    "        )\n",
    "    )\n",
    "    \n",
    "    dst.paste(image1, (0, 0))\n",
    "    dst.paste(image2, (image1.width, 0))\n",
    "    return dst"
   ]
  },
  {
   "cell_type": "code",
   "execution_count": null,
   "id": "d00a7919",
   "metadata": {},
   "outputs": [],
   "source": [
    "def concat_vertical(image1, image2):\n",
    "    dst = Image.new(\n",
    "        'RGB', \n",
    "        (\n",
    "            im1.width, \n",
    "            im1.height + image2.height\n",
    "        )\n",
    "    )\n",
    "    dst.paste(image1, (0, 0))\n",
    "    dst.paste(image2, (0, image1.height))\n",
    "    return dst"
   ]
  },
  {
   "cell_type": "code",
   "execution_count": null,
   "id": "861284c8",
   "metadata": {},
   "outputs": [],
   "source": [
    "def video_to_frames(video):\n",
    "    vid_name = \".\".join(video.split(\".\")[:-1])\n",
    "    frame_dir = \"../videos/{}_frames/\".format(vid_name)\n",
    "    \n",
    "    if not os.path.exists(frame_dir):\n",
    "        os.mkdir(frame_dir)\n",
    "        \n",
    "    framecount = 0\n",
    "    while(vidcap.isOpened()):\n",
    "        ret, frame = vidcap.read()\n",
    "        if ret == False:\n",
    "            break\n",
    "        cv2.imwrite(frame_dir + '{}_{}.jpg'.format(vid_name, framecount) ,frame)\n",
    "        framecount+=1\n",
    "\n",
    "    cap.release()\n",
    "    cv2.destroyAllWindows()"
   ]
  },
  {
   "cell_type": "code",
   "execution_count": null,
   "id": "9ff32cb1",
   "metadata": {},
   "outputs": [],
   "source": [
    "def np_to_cv2(np_arr):\n",
    "    return cv2.cvtColor(np_arr, cv2.COLOR_RGBA2RGB)"
   ]
  },
  {
   "cell_type": "code",
   "execution_count": 1,
   "id": "3d35b147",
   "metadata": {},
   "outputs": [],
   "source": [
    "def resize(image, width=None, height=None):\n",
    "    if width is not None and height is None:\n",
    "        ratio = width/image.size[0]\n",
    "        height = int(ratio * image.size[1])\n",
    "    elif width is None and height is not None:\n",
    "        ratio = height/image.size[1]\n",
    "        width = int(ratio * image.size[0])\n",
    "    elif width is None and height is None:\n",
    "        return None\n",
    "        \n",
    "    image = image.resize((width, height))\n",
    "    \n",
    "    return image\n",
    "        "
   ]
  },
  {
   "cell_type": "code",
   "execution_count": null,
   "id": "9c2ca9d1",
   "metadata": {},
   "outputs": [],
   "source": []
  }
 ],
 "metadata": {
  "kernelspec": {
   "display_name": "Python 3",
   "language": "python",
   "name": "python3"
  },
  "language_info": {
   "codemirror_mode": {
    "name": "ipython",
    "version": 3
   },
   "file_extension": ".py",
   "mimetype": "text/x-python",
   "name": "python",
   "nbconvert_exporter": "python",
   "pygments_lexer": "ipython3",
   "version": "3.8.5"
  }
 },
 "nbformat": 4,
 "nbformat_minor": 5
}
