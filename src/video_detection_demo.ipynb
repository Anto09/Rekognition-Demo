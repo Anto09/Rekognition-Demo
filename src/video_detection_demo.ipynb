{
 "cells": [
  {
   "cell_type": "code",
   "execution_count": null,
   "id": "95ca27fa",
   "metadata": {},
   "outputs": [],
   "source": [
    "from ipynb.fs.full.video_detection import *"
   ]
  },
  {
   "cell_type": "code",
   "execution_count": null,
   "id": "04cf38ea",
   "metadata": {},
   "outputs": [],
   "source": [
    "def detect_faces_in_video(video, bucket):\n",
    "    roleArn = 'arn:aws:iam::694413664119:role/poc-rekognition-demo'   \n",
    "    \n",
    "    faces, framerate = run_video_detection(roleArn, bucket, video)\n",
    "    vid_name = \".\".join(video.split(\".\")[:-1])\n",
    "    \n",
    "    with open('../video_results/{}.json'.format(vid_name), 'w') as json_file:\n",
    "        json.dump(faces, json_file)\n"
   ]
  },
  {
   "cell_type": "code",
   "execution_count": null,
   "id": "ae75868d",
   "metadata": {},
   "outputs": [],
   "source": [
    "def augment_video(video, bucket):\n",
    "    vid_name = \".\".join(video.split(\".\")[:-1])\n",
    "    with open('../video_results/{}.json'.format(vid_name), 'rb') as json_file:\n",
    "        faces = json.load(json_file)\n",
    "    \n",
    "    display_detected_faces(bucket, video, faces, ammend=True, label=True)"
   ]
  },
  {
   "cell_type": "code",
   "execution_count": null,
   "id": "c1b96cc0",
   "metadata": {},
   "outputs": [],
   "source": [
    "def get_cleaned_results(video, bucket):\n",
    "    vid_name = \".\".join(video.split(\".\")[:-1])\n",
    "    with open('../video_results/{}.json'.format(vid_name), 'rb') as json_file:\n",
    "        faces = json.load(json_file)\n",
    "        \n",
    "    clean_results(faces, video)"
   ]
  },
  {
   "cell_type": "code",
   "execution_count": null,
   "id": "17bcfb86",
   "metadata": {},
   "outputs": [],
   "source": [
    "def run_estimate_crowd_size(video, bucket, ammend=True, detect_distinct=False):\n",
    "    vid_name = \".\".join(video.split(\".\")[:-1])\n",
    "    with open('../video_results/{}.json'.format(vid_name), 'rb') as json_file:\n",
    "        faces = json.load(json_file)\n",
    "        \n",
    "    estimate_crowd_size(bucket, video, faces, ammend=ammend, label_preamble='Estimated Crowd Size', detect_distinct=detect_distinct)"
   ]
  },
  {
   "cell_type": "code",
   "execution_count": null,
   "id": "a5134ffc",
   "metadata": {},
   "outputs": [],
   "source": [
    "def run_estimate_class_size(video, bucket):\n",
    "    vid_name = \".\".join(video.split(\".\")[:-1])\n",
    "    with open('../video_results/{}.json'.format(vid_name), 'rb') as json_file:\n",
    "        faces = json.load(json_file)\n",
    "        \n",
    "    estimate_crowd_size(bucket, video, faces, ammend=True, label_preamble='Estimated Class Size')"
   ]
  },
  {
   "cell_type": "code",
   "execution_count": null,
   "id": "12d5ef3e",
   "metadata": {},
   "outputs": [],
   "source": [
    "def run_estimate_capacity(video, bucket, ammend=True):\n",
    "    vid_name = \".\".join(video.split(\".\")[:-1])\n",
    "    with open('../video_results/{}.json'.format(vid_name), 'rb') as json_file:\n",
    "        faces = json.load(json_file)\n",
    "        \n",
    "    estimate_capacity(bucket, video, faces, ammend=ammend)"
   ]
  },
  {
   "cell_type": "code",
   "execution_count": null,
   "id": "b273ec82",
   "metadata": {},
   "outputs": [],
   "source": [
    "bucket = 'labs-rekognition-demo-bucket'\n",
    "video = 'bezos_vogel_trimmed.mp4'\n",
    "\n",
    "### detect the faces ###\n",
    "detect_faces_in_video(video, bucket)\n",
    "\n",
    "### process the vids ###\n",
    "augment_video(video, bucket)"
   ]
  },
  {
   "cell_type": "code",
   "execution_count": null,
   "id": "c75527dd",
   "metadata": {},
   "outputs": [],
   "source": [
    "bucket = 'labs-rekognition-demo-bucket'\n",
    "video = 'crowd_walking_trimmed.mp4'\n",
    "detect_faces_in_video(video, bucket)\n",
    "run_estimate_crowd_size(video, bucket)"
   ]
  },
  {
   "cell_type": "code",
   "execution_count": null,
   "id": "d4eccef9",
   "metadata": {},
   "outputs": [],
   "source": [
    "bucket = 'labs-rekognition-demo-bucket'\n",
    "video = 'class_trimmed.mp4'\n",
    "detect_faces_in_video(video, bucket)\n",
    "run_estimate_class_size(video, bucket)"
   ]
  },
  {
   "cell_type": "code",
   "execution_count": null,
   "id": "732330e9",
   "metadata": {},
   "outputs": [],
   "source": [
    "bucket = 'labs-rekognition-demo-bucket'\n",
    "video = 'bezos_vogel_trimmed.mp4'\n",
    "detect_faces_in_video(video, bucket)\n",
    "run_estimate_crowd_size(video, bucket, ammend=True, detect_distinct=True)"
   ]
  },
  {
   "cell_type": "code",
   "execution_count": null,
   "id": "ad425814",
   "metadata": {},
   "outputs": [],
   "source": [
    "bucket = 'labs-rekognition-demo-bucket'\n",
    "video = 'elevator.mp4'\n",
    "detect_faces_in_video(video, bucket)\n",
    "run_estimate_capacity(video, bucket, ammend=True)"
   ]
  }
 ],
 "metadata": {
  "kernelspec": {
   "display_name": "Python 3",
   "language": "python",
   "name": "python3"
  },
  "language_info": {
   "codemirror_mode": {
    "name": "ipython",
    "version": 3
   },
   "file_extension": ".py",
   "mimetype": "text/x-python",
   "name": "python",
   "nbconvert_exporter": "python",
   "pygments_lexer": "ipython3",
   "version": "3.8.5"
  }
 },
 "nbformat": 4,
 "nbformat_minor": 5
}
