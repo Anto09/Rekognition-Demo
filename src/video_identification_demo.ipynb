{
 "cells": [
  {
   "cell_type": "code",
   "execution_count": null,
   "id": "39154a55",
   "metadata": {},
   "outputs": [],
   "source": [
    "from ipynb.fs.full.video_detection import *\n",
    "from ipynb.fs.full.face_collections import (\n",
    "    add_to_collection,\n",
    "    list_collection_faces,\n",
    "    search_faces,\n",
    "    search_faces_by_image,\n",
    "    delete_faces,\n",
    "    create_collection,\n",
    "    list_all_collections,\n",
    "    delete_collection,\n",
    "    display_found\n",
    ")\n",
    "from ipynb.fs.full.face_collections import search_faces"
   ]
  },
  {
   "cell_type": "code",
   "execution_count": null,
   "id": "a7df1f17",
   "metadata": {},
   "outputs": [],
   "source": [
    "def identify_faces_in_video(video, bucket, collection_id):\n",
    "    roleArn = 'arn:aws:iam::694413664119:role/poc-rekognition-demo'   \n",
    "    \n",
    "    faces, framerate = run_video_identification(roleArn, bucket, video, collection_id)\n",
    "    vid_name = \".\".join(video.split(\".\")[:-1])\n",
    "    \n",
    "    print(faces)\n",
    "    print('---------------------------------')\n",
    "    with open('../video_results/{}.json'.format(vid_name), 'w') as json_file:\n",
    "        json.dump(faces, json_file)\n",
    "        \n",
    "    display_identification_results(video, bucket, faces, collection_id)"
   ]
  },
  {
   "cell_type": "code",
   "execution_count": null,
   "id": "859fa3c7",
   "metadata": {},
   "outputs": [],
   "source": [
    "# create a collection and add photos\n",
    "create_collection('anto')\n",
    "photos = ['anto_{}.jpg'.format(i) for i in range(1,8)]\n",
    "\n",
    "for photo in photos:\n",
    "    add_to_collection('anto', photo, 10, bucket='labs-rekognition-demo-bucket')\n",
    "\n",
    "    \n",
    "list_collection_faces('anto', 20)"
   ]
  },
  {
   "cell_type": "code",
   "execution_count": null,
   "id": "ae6285b4",
   "metadata": {},
   "outputs": [],
   "source": [
    "identify_faces_in_video(\n",
    "    video='identification.mp4',\n",
    "    bucket='labs-rekognition-demo-bucket',\n",
    "    collection_id='anto'\n",
    ")"
   ]
  },
  {
   "cell_type": "code",
   "execution_count": null,
   "id": "5c86fd27",
   "metadata": {},
   "outputs": [],
   "source": [
    "delete_collection('anto')"
   ]
  },
  {
   "cell_type": "code",
   "execution_count": null,
   "id": "646a997a",
   "metadata": {},
   "outputs": [],
   "source": []
  }
 ],
 "metadata": {
  "kernelspec": {
   "display_name": "Python 3",
   "language": "python",
   "name": "python3"
  },
  "language_info": {
   "codemirror_mode": {
    "name": "ipython",
    "version": 3
   },
   "file_extension": ".py",
   "mimetype": "text/x-python",
   "name": "python",
   "nbconvert_exporter": "python",
   "pygments_lexer": "ipython3",
   "version": "3.8.5"
  }
 },
 "nbformat": 4,
 "nbformat_minor": 5
}
